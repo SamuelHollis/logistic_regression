{
 "cells": [
  {
   "cell_type": "code",
   "execution_count": 9,
   "metadata": {},
   "outputs": [],
   "source": [
    "import pandas as pd\n",
    "import urllib.request\n",
    "import ssl\n",
    "\n",
    "url = 'https://raw.githubusercontent.com/4GeeksAcademy/logistic-regression-project-tutorial/main/bank-marketing-campaign-data.csv'\n",
    "\n",
    "ssl_context = urllib.request.urlopen(url, context=ssl._create_unverified_context())\n",
    "\n",
    "df = pd.read_csv(ssl_context, delimiter = ';')\n",
    "\n",
    "df.to_csv('/Users/SamuelHollis/Desktop/4GeeksAcademy/17a clase-ML/logistic_regression/data/raw/data', index=False)"
   ]
  }
 ],
 "metadata": {
  "kernelspec": {
   "display_name": "Python 3",
   "language": "python",
   "name": "python3"
  },
  "language_info": {
   "codemirror_mode": {
    "name": "ipython",
    "version": 3
   },
   "file_extension": ".py",
   "mimetype": "text/x-python",
   "name": "python",
   "nbconvert_exporter": "python",
   "pygments_lexer": "ipython3",
   "version": "3.12.2"
  }
 },
 "nbformat": 4,
 "nbformat_minor": 2
}
